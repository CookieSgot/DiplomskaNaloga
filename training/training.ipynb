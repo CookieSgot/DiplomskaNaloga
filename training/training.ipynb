{
 "cells": [
  {
   "cell_type": "code",
   "execution_count": 1,
   "metadata": {},
   "outputs": [
    {
     "name": "stderr",
     "output_type": "stream",
     "text": [
      "c:\\Users\\gasper\\AppData\\Local\\Programs\\Python\\Python312\\Lib\\site-packages\\tqdm\\auto.py:21: TqdmWarning: IProgress not found. Please update jupyter and ipywidgets. See https://ipywidgets.readthedocs.io/en/stable/user_install.html\n",
      "  from .autonotebook import tqdm as notebook_tqdm\n"
     ]
    }
   ],
   "source": [
    "import pandas as pd\n",
    "from transformers import AutoTokenizer\n",
    "from transformers import AutoModelForSequenceClassification\n",
    "from transformers import TrainingArguments, Trainer\n",
    "import numpy as np\n",
    "import evaluate\n",
    "import datasets as ds"
   ]
  },
  {
   "cell_type": "code",
   "execution_count": 2,
   "metadata": {},
   "outputs": [],
   "source": [
    "train = pd.read_csv('../data/headlines_train.csv')#.sample(500, random_state=42)\n",
    "test = pd.read_csv('../data/headlines_test.csv')#.sample(50, random_state=42)\n",
    "eval = pd.read_csv('../data/headlines_val.csv')#.sample(50, random_state=42)\n",
    "\n",
    "dataset = ds.DatasetDict({\n",
    "    \"train\": ds.Dataset.from_pandas(train),\n",
    "    \"test\": ds.Dataset.from_pandas(test),\n",
    "    \"eval\": ds.Dataset.from_pandas(eval)\n",
    "})\n"
   ]
  },
  {
   "cell_type": "code",
   "execution_count": 3,
   "metadata": {},
   "outputs": [
    {
     "name": "stderr",
     "output_type": "stream",
     "text": [
      "c:\\Users\\gasper\\AppData\\Local\\Programs\\Python\\Python312\\Lib\\site-packages\\huggingface_hub\\file_download.py:1132: FutureWarning: `resume_download` is deprecated and will be removed in version 1.0.0. Downloads always resume when possible. If you want to force a new download, use `force_download=True`.\n",
      "  warnings.warn(\n",
      "Map: 100%|██████████| 500/500 [00:00<00:00, 5554.27 examples/s]\n",
      "Map: 100%|██████████| 50/50 [00:00<00:00, 4163.25 examples/s]\n",
      "Map: 100%|██████████| 50/50 [00:00<00:00, 3844.81 examples/s]\n"
     ]
    }
   ],
   "source": [
    "#modelname = \"EMBEDDIA/crosloengual-bert\"\n",
    "modelname = \"EMBEDDIA/sloberta\"\n",
    "tokenizer = AutoTokenizer.from_pretrained(modelname)\n",
    "def tokenize_function(examples):\n",
    "    return tokenizer(examples[\"text\"], padding=\"max_length\", max_length=160, truncation=True, return_tensors=\"pt\")\n",
    "\n",
    "tokenized_datasets = dataset.map(tokenize_function, batched=True)"
   ]
  },
  {
   "cell_type": "code",
   "execution_count": 4,
   "metadata": {},
   "outputs": [
    {
     "name": "stderr",
     "output_type": "stream",
     "text": [
      "Some weights of CamembertForSequenceClassification were not initialized from the model checkpoint at EMBEDDIA/sloberta and are newly initialized: ['classifier.dense.bias', 'classifier.dense.weight', 'classifier.out_proj.bias', 'classifier.out_proj.weight']\n",
      "You should probably TRAIN this model on a down-stream task to be able to use it for predictions and inference.\n"
     ]
    }
   ],
   "source": [
    "model = AutoModelForSequenceClassification.from_pretrained(modelname, num_labels=2)\n",
    "training_args = TrainingArguments(output_dir=\"test_trainer\", evaluation_strategy=\"epoch\", num_train_epochs=5)\n",
    "\n",
    "metric = evaluate.load(\"accuracy\")\n",
    "\n",
    "def compute_metrics(eval_pred):\n",
    "    logits, labels = eval_pred\n",
    "    predictions = np.argmax(logits, axis=-1)\n",
    "    return metric.compute(predictions=predictions, references=labels)"
   ]
  },
  {
   "cell_type": "code",
   "execution_count": 5,
   "metadata": {},
   "outputs": [
    {
     "name": "stderr",
     "output_type": "stream",
     "text": [
      "                                                \n",
      " 20%|██        | 63/315 [05:09<22:31,  5.36s/it]"
     ]
    },
    {
     "name": "stdout",
     "output_type": "stream",
     "text": [
      "{'eval_loss': 0.6880384683609009, 'eval_accuracy': 0.54, 'eval_runtime': 1.8255, 'eval_samples_per_second': 27.39, 'eval_steps_per_second': 3.835, 'epoch': 1.0}\n"
     ]
    },
    {
     "name": "stderr",
     "output_type": "stream",
     "text": [
      "                                                  \n",
      " 40%|████      | 126/315 [13:57<18:16,  5.80s/it]"
     ]
    },
    {
     "name": "stdout",
     "output_type": "stream",
     "text": [
      "{'eval_loss': 0.6863951086997986, 'eval_accuracy': 0.54, 'eval_runtime': 1.8542, 'eval_samples_per_second': 26.966, 'eval_steps_per_second': 3.775, 'epoch': 2.0}\n"
     ]
    },
    {
     "name": "stderr",
     "output_type": "stream",
     "text": [
      "                                                 \n",
      " 60%|██████    | 189/315 [20:55<10:18,  4.91s/it]"
     ]
    },
    {
     "name": "stdout",
     "output_type": "stream",
     "text": [
      "{'eval_loss': 0.6865469217300415, 'eval_accuracy': 0.54, 'eval_runtime': 2.4618, 'eval_samples_per_second': 20.311, 'eval_steps_per_second': 2.843, 'epoch': 3.0}\n"
     ]
    },
    {
     "name": "stderr",
     "output_type": "stream",
     "text": [
      "                                                 \n",
      " 80%|████████  | 252/315 [28:31<05:42,  5.43s/it]"
     ]
    },
    {
     "name": "stdout",
     "output_type": "stream",
     "text": [
      "{'eval_loss': 0.6850305199623108, 'eval_accuracy': 0.54, 'eval_runtime': 2.2368, 'eval_samples_per_second': 22.353, 'eval_steps_per_second': 3.129, 'epoch': 4.0}\n"
     ]
    },
    {
     "name": "stderr",
     "output_type": "stream",
     "text": [
      "                                                 \n",
      "100%|██████████| 315/315 [38:00<00:00,  7.24s/it]\n"
     ]
    },
    {
     "name": "stdout",
     "output_type": "stream",
     "text": [
      "{'eval_loss': 0.6852250099182129, 'eval_accuracy': 0.54, 'eval_runtime': 2.5456, 'eval_samples_per_second': 19.642, 'eval_steps_per_second': 2.75, 'epoch': 5.0}\n",
      "{'train_runtime': 2280.1774, 'train_samples_per_second': 1.096, 'train_steps_per_second': 0.138, 'train_loss': 0.6917421371217758, 'epoch': 5.0}\n"
     ]
    },
    {
     "name": "stderr",
     "output_type": "stream",
     "text": [
      "100%|██████████| 7/7 [00:06<00:00,  1.09it/s]\n"
     ]
    }
   ],
   "source": [
    "trainer = Trainer(\n",
    "    model=model,\n",
    "    args=training_args,\n",
    "    train_dataset=tokenized_datasets[\"train\"],\n",
    "    eval_dataset=tokenized_datasets[\"eval\"],\n",
    "    compute_metrics=compute_metrics\n",
    ")\n",
    "\n",
    "trainer.train()\n",
    "predictions = trainer.predict(test_dataset=tokenized_datasets[\"test\"])"
   ]
  },
  {
   "cell_type": "code",
   "execution_count": 6,
   "metadata": {},
   "outputs": [
    {
     "name": "stdout",
     "output_type": "stream",
     "text": [
      "PredictionOutput(predictions=array([[ 0.04393283, -0.10118605],\n",
      "       [ 0.03999142, -0.14097118],\n",
      "       [ 0.06262582, -0.11103121],\n",
      "       [ 0.03650834, -0.08542555],\n",
      "       [ 0.0726263 , -0.06758032],\n",
      "       [ 0.06141059, -0.07715786],\n",
      "       [ 0.04434155, -0.07388615],\n",
      "       [ 0.02087264, -0.11643792],\n",
      "       [ 0.06041903, -0.10991348],\n",
      "       [ 0.05014312, -0.09180582],\n",
      "       [ 0.0156146 , -0.08504643],\n",
      "       [ 0.04627168, -0.10775284],\n",
      "       [ 0.04192035, -0.07549126],\n",
      "       [ 0.0526369 , -0.06320458],\n",
      "       [ 0.05859836, -0.09541917],\n",
      "       [ 0.06622987, -0.08778339],\n",
      "       [ 0.03947572, -0.11378293],\n",
      "       [ 0.0795209 , -0.09122261],\n",
      "       [ 0.04372286, -0.08167616],\n",
      "       [ 0.04898355, -0.10725186],\n",
      "       [ 0.04676703, -0.09048095],\n",
      "       [ 0.07019776, -0.08320591],\n",
      "       [ 0.05150445, -0.07409073],\n",
      "       [ 0.03824732, -0.09872345],\n",
      "       [ 0.04652142, -0.08144905],\n",
      "       [ 0.06000957, -0.09035443],\n",
      "       [ 0.07522237, -0.11295918],\n",
      "       [ 0.02467533, -0.09543812],\n",
      "       [ 0.05986786, -0.10799282],\n",
      "       [ 0.0568718 , -0.08079782],\n",
      "       [ 0.07120071, -0.11139051],\n",
      "       [ 0.04365547, -0.08769837],\n",
      "       [ 0.05902333, -0.07952005],\n",
      "       [ 0.04158249, -0.09622338],\n",
      "       [ 0.03558824, -0.11597524],\n",
      "       [ 0.03350765, -0.1132405 ],\n",
      "       [ 0.02664438, -0.1135735 ],\n",
      "       [-0.02011207, -0.08825051],\n",
      "       [ 0.03317294, -0.14364462],\n",
      "       [ 0.05491958, -0.09804892],\n",
      "       [ 0.05480636, -0.07005425],\n",
      "       [ 0.03847701, -0.08878661],\n",
      "       [ 0.05449405, -0.12520213],\n",
      "       [ 0.06081923, -0.09573436],\n",
      "       [ 0.04495535, -0.07988842],\n",
      "       [ 0.05461386, -0.09080567],\n",
      "       [ 0.04711723, -0.07586085],\n",
      "       [ 0.05312672, -0.10447903],\n",
      "       [ 0.05109152, -0.06730332],\n",
      "       [ 0.05043419, -0.09413879]], dtype=float32), label_ids=array([1, 0, 1, 0, 1, 0, 1, 0, 0, 0, 1, 1, 0, 1, 1, 0, 0, 0, 1, 0, 1, 0,\n",
      "       1, 0, 1, 0, 0, 1, 1, 0, 0, 1, 0, 0, 1, 0, 1, 1, 0, 0, 1, 1, 0, 0,\n",
      "       0, 0, 1, 0, 1, 1], dtype=int64), metrics={'test_loss': 0.6850242018699646, 'test_accuracy': 0.54, 'test_runtime': 14.7384, 'test_samples_per_second': 3.393, 'test_steps_per_second': 0.475})\n"
     ]
    }
   ],
   "source": [
    "print(predictions)"
   ]
  },
  {
   "cell_type": "code",
   "execution_count": 13,
   "metadata": {},
   "outputs": [
    {
     "name": "stdout",
     "output_type": "stream",
     "text": [
      "[0, 0, 0, 0, 0, 0, 0, 0, 0, 0, 0, 0, 0, 0, 0, 0, 0, 0, 0, 0, 0, 0, 0, 0, 0, 0, 0, 0, 0, 0, 0, 0, 0, 0, 0, 0, 0, 0, 0, 0, 0, 0, 0, 0, 0, 0, 0, 0, 0, 0]\n",
      "Loss: 16.580080558993888\n",
      "Accuracy: 0.54\n",
      "Precision: 0.0\n",
      "Recall: 0.0\n",
      "f1 score: 0.0\n"
     ]
    },
    {
     "name": "stderr",
     "output_type": "stream",
     "text": [
      "c:\\Users\\gasper\\AppData\\Local\\Programs\\Python\\Python312\\Lib\\site-packages\\sklearn\\metrics\\_classification.py:1471: UndefinedMetricWarning: Precision is ill-defined and being set to 0.0 due to no predicted samples. Use `zero_division` parameter to control this behavior.\n",
      "  _warn_prf(average, modifier, msg_start, len(result))\n"
     ]
    }
   ],
   "source": [
    "from sklearn import metrics\n",
    "\n",
    "prediction = np.argmax(predictions.predictions, axis=-1)\n",
    "prediction = prediction.tolist()\n",
    "print(prediction)\n",
    "recall = metrics.recall_score(dataset[\"test\"][\"label\"],prediction)\n",
    "precision = metrics.precision_score(dataset[\"test\"][\"label\"],prediction)\n",
    "f1_score = metrics.f1_score(dataset[\"test\"][\"label\"],prediction)\n",
    "accuracy = metrics.accuracy_score(dataset[\"test\"][\"label\"],prediction)\n",
    "loss = metrics.log_loss(dataset[\"test\"][\"label\"],prediction)\n",
    "\n",
    "print('Loss:',loss)\n",
    "print('Accuracy:',accuracy)\n",
    "print('Precision:',precision)\n",
    "print('Recall:',recall)\n",
    "print('f1 score:',f1_score)"
   ]
  }
 ],
 "metadata": {
  "kernelspec": {
   "display_name": "Python 3",
   "language": "python",
   "name": "python3"
  },
  "language_info": {
   "codemirror_mode": {
    "name": "ipython",
    "version": 3
   },
   "file_extension": ".py",
   "mimetype": "text/x-python",
   "name": "python",
   "nbconvert_exporter": "python",
   "pygments_lexer": "ipython3",
   "version": "3.12.0"
  }
 },
 "nbformat": 4,
 "nbformat_minor": 2
}
