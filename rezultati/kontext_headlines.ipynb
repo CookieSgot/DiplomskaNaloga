{
 "cells": [
  {
   "cell_type": "code",
   "execution_count": 1,
   "metadata": {},
   "outputs": [],
   "source": [
    "from sklearn import metrics\n",
    "import pandas as pd\n",
    "import numpy as np\n",
    "\n",
    "def measure(test,prediction):\n",
    "    recall = metrics.recall_score(test[\"label\"],prediction)\n",
    "    precision = metrics.precision_score(test[\"label\"],prediction)\n",
    "    f1_score = metrics.f1_score(test[\"label\"],prediction)\n",
    "    accuracy = metrics.accuracy_score(test[\"label\"],prediction)\n",
    "\n",
    "    print('Accuracy:',accuracy)\n",
    "    print('Precision:',precision)\n",
    "    print('Recall:',recall)\n",
    "    print('f1 score:',f1_score)\n",
    "\n",
    "    matrix = metrics.confusion_matrix(test[\"label\"],prediction)\n",
    "    print(matrix)\n",
    "\n",
    "def predict(content):\n",
    "    prediction = []\n",
    "    for index, line in enumerate(content):\n",
    "        line = line.strip()\n",
    "        if \"1\" in line:\n",
    "            prediction.append(1)\n",
    "        elif \"0\" in line:\n",
    "            prediction.append(0)\n",
    "    return prediction"
   ]
  },
  {
   "cell_type": "markdown",
   "metadata": {},
   "source": [
    "## Headlines Množica"
   ]
  },
  {
   "cell_type": "code",
   "execution_count": 2,
   "metadata": {},
   "outputs": [],
   "source": [
    "test = pd.read_csv('../llama3/kontext_headlines_test.csv')"
   ]
  },
  {
   "cell_type": "markdown",
   "metadata": {},
   "source": [
    "### LLama3"
   ]
  },
  {
   "cell_type": "markdown",
   "metadata": {},
   "source": [
    "#### Ročni primeri"
   ]
  },
  {
   "cell_type": "code",
   "execution_count": 3,
   "metadata": {},
   "outputs": [
    {
     "name": "stdout",
     "output_type": "stream",
     "text": [
      "Accuracy: 0.5666666666666667\n",
      "Precision: 0.5714285714285714\n",
      "Recall: 0.5333333333333333\n",
      "f1 score: 0.5517241379310344\n",
      "[[9 6]\n",
      " [7 8]]\n"
     ]
    }
   ],
   "source": [
    "with open('../GPT_llama3_kontext/rocno_llama_headlines.txt', 'r', encoding='utf-8') as file:\n",
    "    content = file.readlines()\n",
    "prediction = predict(content)\n",
    "\n",
    "measure(test,prediction)"
   ]
  },
  {
   "cell_type": "markdown",
   "metadata": {},
   "source": [
    "#### GPT primeri"
   ]
  },
  {
   "cell_type": "code",
   "execution_count": 4,
   "metadata": {},
   "outputs": [
    {
     "name": "stdout",
     "output_type": "stream",
     "text": [
      "Accuracy: 0.5333333333333333\n",
      "Precision: 0.5454545454545454\n",
      "Recall: 0.4\n",
      "f1 score: 0.4615384615384615\n",
      "[[10  5]\n",
      " [ 9  6]]\n"
     ]
    }
   ],
   "source": [
    "with open('../GPT_llama3_kontext/GPT_llama_headlines.txt', 'r', encoding='utf-8') as file:\n",
    "    content = file.readlines()\n",
    "prediction = predict(content)\n",
    "\n",
    "measure(test,prediction)"
   ]
  },
  {
   "cell_type": "markdown",
   "metadata": {},
   "source": [
    "### GPT"
   ]
  },
  {
   "cell_type": "markdown",
   "metadata": {},
   "source": [
    "#### Ročni primeri"
   ]
  },
  {
   "cell_type": "code",
   "execution_count": 5,
   "metadata": {},
   "outputs": [
    {
     "name": "stdout",
     "output_type": "stream",
     "text": [
      "Accuracy: 0.8333333333333334\n",
      "Precision: 0.7777777777777778\n",
      "Recall: 0.9333333333333333\n",
      "f1 score: 0.8484848484848485\n",
      "[[11  4]\n",
      " [ 1 14]]\n"
     ]
    }
   ],
   "source": [
    "with open('../GPT_llama3_kontext/rocno_GPT_headlines.txt', 'r', encoding='utf-8') as file:\n",
    "    content = file.readlines()\n",
    "prediction = predict(content)\n",
    "\n",
    "measure(test,prediction)"
   ]
  },
  {
   "cell_type": "markdown",
   "metadata": {},
   "source": [
    "#### GPT primeri"
   ]
  },
  {
   "cell_type": "code",
   "execution_count": 6,
   "metadata": {},
   "outputs": [
    {
     "name": "stdout",
     "output_type": "stream",
     "text": [
      "Accuracy: 0.6666666666666666\n",
      "Precision: 0.7272727272727273\n",
      "Recall: 0.5333333333333333\n",
      "f1 score: 0.6153846153846153\n",
      "[[12  3]\n",
      " [ 7  8]]\n"
     ]
    }
   ],
   "source": [
    "with open('../GPT_llama3_kontext/GPT_GPT_headlines.txt', 'r', encoding='utf-8') as file:\n",
    "    content = file.readlines()\n",
    "prediction = predict(content)\n",
    "\n",
    "measure(test,prediction)"
   ]
  }
 ],
 "metadata": {
  "kernelspec": {
   "display_name": "Python 3",
   "language": "python",
   "name": "python3"
  },
  "language_info": {
   "codemirror_mode": {
    "name": "ipython",
    "version": 3
   },
   "file_extension": ".py",
   "mimetype": "text/x-python",
   "name": "python",
   "nbconvert_exporter": "python",
   "pygments_lexer": "ipython3",
   "version": "3.12.0"
  }
 },
 "nbformat": 4,
 "nbformat_minor": 2
}
