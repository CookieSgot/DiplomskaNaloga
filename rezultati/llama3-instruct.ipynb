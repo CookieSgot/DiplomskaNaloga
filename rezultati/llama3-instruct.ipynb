{
 "cells": [
  {
   "cell_type": "code",
   "execution_count": 1,
   "metadata": {},
   "outputs": [],
   "source": [
    "from sklearn import metrics\n",
    "import pandas as pd\n",
    "import numpy as np"
   ]
  },
  {
   "cell_type": "markdown",
   "metadata": {},
   "source": [
    "### Množica headlines"
   ]
  },
  {
   "cell_type": "code",
   "execution_count": 3,
   "metadata": {},
   "outputs": [],
   "source": [
    "test = pd.read_csv('../data/headlines_test.csv')\n",
    "with open('../training/headline_pred.txt', 'r') as file:\n",
    "    content = file.readlines()\n",
    "prediction = [int(line.strip()) for line in content]"
   ]
  },
  {
   "cell_type": "code",
   "execution_count": 4,
   "metadata": {},
   "outputs": [
    {
     "name": "stdout",
     "output_type": "stream",
     "text": [
      "Loss: 15.540834480143452\n",
      "Accuracy: 0.5688329839273235\n",
      "Precision: 0.529946303180504\n",
      "Recall: 0.9303843364757071\n",
      "f1 score: 0.6752631578947369\n"
     ]
    }
   ],
   "source": [
    "recall = metrics.recall_score(test[\"label\"],prediction)\n",
    "precision = metrics.precision_score(test[\"label\"],prediction)\n",
    "f1_score = metrics.f1_score(test[\"label\"],prediction)\n",
    "accuracy = metrics.accuracy_score(test[\"label\"],prediction)\n",
    "loss = metrics.log_loss(test[\"label\"],prediction)\n",
    "\n",
    "print('Loss:',loss)\n",
    "print('Accuracy:',accuracy)\n",
    "print('Precision:',precision)\n",
    "print('Recall:',recall)\n",
    "print('f1 score:',f1_score)"
   ]
  },
  {
   "cell_type": "code",
   "execution_count": 5,
   "metadata": {},
   "outputs": [
    {
     "name": "stdout",
     "output_type": "stream",
     "text": [
      "Cohens kappa: 0.158813\n",
      "ROC AUC: 0.581510\n",
      "[[ 345 1138]\n",
      " [  96 1283]]\n"
     ]
    }
   ],
   "source": [
    "kappa = metrics.cohen_kappa_score(test[\"label\"],prediction)\n",
    "print('Cohens kappa: %f' % kappa)\n",
    "auc = metrics.roc_auc_score(test[\"label\"],prediction)\n",
    "print('ROC AUC: %f' % auc)\n",
    "matrix = metrics.confusion_matrix(test[\"label\"],prediction)\n",
    "print(matrix)"
   ]
  },
  {
   "cell_type": "markdown",
   "metadata": {},
   "source": [
    "### Množica reddit"
   ]
  },
  {
   "cell_type": "code",
   "execution_count": 16,
   "metadata": {},
   "outputs": [],
   "source": [
    "test = pd.read_csv('../data/reddit_test.csv')\n",
    "with open('../training/reddit_pred.txt', 'r') as file:\n",
    "    content = file.readlines()\n",
    "prediction = []\n",
    "invalid_indexes = []\n",
    "\n",
    "for index, line in enumerate(content):\n",
    "    line = line.strip()\n",
    "    if line == '0' or line == '1':\n",
    "        prediction.append(int(line))\n",
    "    else:\n",
    "        invalid_indexes.append(index)\n",
    "test = test.drop(invalid_indexes)"
   ]
  },
  {
   "cell_type": "code",
   "execution_count": 17,
   "metadata": {},
   "outputs": [
    {
     "name": "stdout",
     "output_type": "stream",
     "text": [
      "Loss: 15.507715391763014\n",
      "Accuracy: 0.5697518443997317\n",
      "Precision: 0.5718085106382979\n",
      "Recall: 0.5737158105403602\n",
      "f1 score: 0.5727605727605728\n"
     ]
    }
   ],
   "source": [
    "recall = metrics.recall_score(test[\"label\"],prediction)\n",
    "precision = metrics.precision_score(test[\"label\"],prediction)\n",
    "f1_score = metrics.f1_score(test[\"label\"],prediction)\n",
    "accuracy = metrics.accuracy_score(test[\"label\"],prediction)\n",
    "loss = metrics.log_loss(test[\"label\"],prediction)\n",
    "\n",
    "print('Loss:',loss)\n",
    "print('Accuracy:',accuracy)\n",
    "print('Precision:',precision)\n",
    "print('Recall:',recall)\n",
    "print('f1 score:',f1_score)"
   ]
  },
  {
   "cell_type": "code",
   "execution_count": 18,
   "metadata": {},
   "outputs": [
    {
     "name": "stdout",
     "output_type": "stream",
     "text": [
      "Cohens kappa: 0.139463\n",
      "ROC AUC: 0.569730\n",
      "[[839 644]\n",
      " [639 860]]\n"
     ]
    }
   ],
   "source": [
    "kappa = metrics.cohen_kappa_score(test[\"label\"],prediction)\n",
    "print('Cohens kappa: %f' % kappa)\n",
    "auc = metrics.roc_auc_score(test[\"label\"],prediction)\n",
    "print('ROC AUC: %f' % auc)\n",
    "matrix = metrics.confusion_matrix(test[\"label\"],prediction)\n",
    "print(matrix)"
   ]
  }
 ],
 "metadata": {
  "kernelspec": {
   "display_name": "Python 3",
   "language": "python",
   "name": "python3"
  },
  "language_info": {
   "codemirror_mode": {
    "name": "ipython",
    "version": 3
   },
   "file_extension": ".py",
   "mimetype": "text/x-python",
   "name": "python",
   "nbconvert_exporter": "python",
   "pygments_lexer": "ipython3",
   "version": "3.12.0"
  }
 },
 "nbformat": 4,
 "nbformat_minor": 2
}
